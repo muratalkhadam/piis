{
 "cells": [
  {
   "cell_type": "markdown",
   "source": [
    "# Лабораторна робота №5.\n",
    "# ІП-13 Ал Хадам Мурат Резгович"
   ],
   "metadata": {
    "collapsed": false
   }
  },
  {
   "cell_type": "code",
   "execution_count": 36,
   "outputs": [],
   "source": [
    "from selenium import webdriver\n",
    "import spacy"
   ],
   "metadata": {
    "collapsed": false,
    "ExecuteTime": {
     "end_time": "2023-11-23T19:53:32.646428700Z",
     "start_time": "2023-11-23T19:53:32.628403900Z"
    }
   }
  },
  {
   "cell_type": "code",
   "execution_count": 37,
   "outputs": [],
   "source": [
    "driver = webdriver.ChromiumEdge()\n",
    "\n",
    "news_link = \"https://pestrecy-rt.ru/news/tag/list/specoperaciia/\"\n",
    "\n",
    "driver.get(news_link)"
   ],
   "metadata": {
    "collapsed": false,
    "ExecuteTime": {
     "end_time": "2023-11-23T19:53:41.011955100Z",
     "start_time": "2023-11-23T19:53:32.634404Z"
    }
   }
  },
  {
   "cell_type": "code",
   "execution_count": 38,
   "outputs": [],
   "source": [
    "nlp = spacy.load(\"ru_core_news_md\")"
   ],
   "metadata": {
    "collapsed": false,
    "ExecuteTime": {
     "end_time": "2023-11-23T19:53:43.104636400Z",
     "start_time": "2023-11-23T19:53:41.013953400Z"
    }
   }
  },
  {
   "cell_type": "code",
   "execution_count": 39,
   "outputs": [],
   "source": [
    "def get_news_info(news_li):\n",
    "    news_info_title = news_li.find_element(\"xpath\", \".//a/div[1]/h2\").text\n",
    "    news_info_subtitle = news_li.find_element(\"xpath\", \".//a/div[1]/p\").text\n",
    "    return news_info_title + \"\\n\" + news_info_subtitle\n",
    "\n",
    "\n",
    "def get_persons(news_text_item):\n",
    "    doc = nlp(news_text_item)\n",
    "    for pers in doc.ents:\n",
    "        if pers.label_ == \"PER\":\n",
    "            print(pers.text)\n",
    "\n",
    "\n",
    "def scrape_page():\n",
    "    news_xpath = \"/html/body/main/ul\"\n",
    "    news_ul = driver.find_element(\"xpath\", news_xpath)\n",
    "    news = news_ul.find_elements(\"xpath\", \".//li\")\n",
    "    news_parsed = [get_news_info(news_item) for news_item in news]\n",
    "    for news_item in news_parsed:\n",
    "        get_persons(news_item)"
   ],
   "metadata": {
    "collapsed": false,
    "ExecuteTime": {
     "end_time": "2023-11-23T19:53:43.120680600Z",
     "start_time": "2023-11-23T19:53:43.109168600Z"
    }
   }
  },
  {
   "cell_type": "code",
   "execution_count": 40,
   "outputs": [
    {
     "name": "stdout",
     "output_type": "stream",
     "text": [
      "Минмолодежи РТ\n",
      "Айгуль Сабирова\n",
      "Владислав Кузнецов\n",
      "Юрия Ивановича\n",
      "Марии Ивановны М.\n",
      "Валерий\n",
      "Алексей\n",
      "Валера\n",
      "Рафката Амировича\n",
      "Раушании Габдрахмановны\n",
      "Алмаз К.\n",
      "Рустам Сафиуллин\n",
      "Ильдара Насыбуллина\n",
      "Пестрецов\n",
      "Ивана Додосова\n",
      "Раис\n",
      "Рустам Минниханов\n",
      "Фаниль Аглиуллин\n",
      "Александра\n",
      "Лейла Фазлеева\n",
      "Гузель Удачина\n",
      "Ивана Додосова\n",
      "Пестрецов\n",
      "Елена Корчагина\n",
      "Сергей Корчагин\n",
      "Лейла Фазлеева\n",
      "Евгений Токмаков\n",
      "Альберт Ибятуллин\n",
      "Евгений Токмаков\n",
      "Лейла Фазлеева\n",
      "Лейла Фазлеева\n",
      "Гузель Удачина\n",
      "Ивана Додосова\n",
      "Пестрецов\n",
      "Елена Корчагина\n",
      "Сергей Корчагин\n",
      "Лейла Фазлеева\n",
      "Евгений Токмаков\n",
      "Альберт Ибятуллин\n",
      "Евгений Токмаков\n",
      "Лейла Фазлеева\n",
      "Артема Прокопчука\n",
      "Эдуард Вафин\n",
      "Ринат Садыков\n",
      "Сергей\n",
      "Сергей Шойгу\n",
      "Эдуард Вафин\n",
      "Кабмина РТ\n",
      "Евгений Токмаков\n",
      "Марат Нуриев\n",
      "Соцфонд\n",
      "Раиса Республики Татарстан\n",
      "Рустама Минниханова\n",
      "Путин\n",
      "Расиму Баксикову\n",
      "От\n",
      "Неустроев\n",
      "Верховному Главнокомандующему\n",
      "Евгений Токмаков\n",
      "Эдуард Шарафиев\n",
      "Сергей\n",
      "Родину\n",
      "Александром Агафоновым\n",
      "Ему\n",
      "Путин\n",
      "Татьяна Голикова\n",
      "Николая Чудотворца\n",
      "Жукова\n",
      "Валерий Максимов\n",
      "Валерием Межва\n",
      "Путин\n",
      "Рустам Сафиуллин\n",
      "Евгений Токмаков\n",
      "Александр Владимиров\n",
      "Евгений Токмаков\n",
      "Фарит Валиев\n",
      "Иван Додосов\n",
      "Иван Додосов\n",
      "Марс Бикбов\n",
      "Галина Тимофеева\n",
      "Александр\n",
      "Эдуард Вафин\n",
      "Минниханов\n",
      "Камиль Самигуллин\n",
      "Куюков\n",
      "Ильхама Кашапова\n",
      "Эдуард Вафин\n",
      "Путин\n",
      "Вячеслав Володин\n",
      "Виталий Беляев\n",
      "Тамара Лаптева\n",
      "Ринат Садыков\n",
      "Минниханов\n",
      "Ильхам Кашапов\n",
      "Путин\n",
      "Эдуард Шарафиев\n",
      "Путин\n",
      "Шихазды\n",
      "Куюков\n",
      "Виталий Беляев\n",
      "Эльмира Зарипова\n",
      "Иван Додосов\n",
      "Пестрецов\n",
      "Тинчурина\n",
      "Программа\n",
      "Дедом\n",
      "Снегурочкой\n",
      "Тимур Сулейманов\n",
      "Ильхам Кашапов\n"
     ]
    }
   ],
   "source": [
    "while True:\n",
    "    scrape_page()\n",
    "    paging_buttons = driver.find_elements(\"xpath\", \"/html/body/main/div[2]/div/a/span\")\n",
    "    next_button = paging_buttons[-1]\n",
    "\n",
    "    if next_button.text == \"Далее ❯\":\n",
    "        next_button.click()\n",
    "    else:\n",
    "        break"
   ],
   "metadata": {
    "collapsed": false,
    "ExecuteTime": {
     "end_time": "2023-11-23T19:56:44.386628600Z",
     "start_time": "2023-11-23T19:53:43.123680100Z"
    }
   }
  }
 ],
 "metadata": {
  "kernelspec": {
   "display_name": "Python 3",
   "language": "python",
   "name": "python3"
  },
  "language_info": {
   "codemirror_mode": {
    "name": "ipython",
    "version": 2
   },
   "file_extension": ".py",
   "mimetype": "text/x-python",
   "name": "python",
   "nbconvert_exporter": "python",
   "pygments_lexer": "ipython2",
   "version": "2.7.6"
  }
 },
 "nbformat": 4,
 "nbformat_minor": 0
}
